{
 "cells": [
  {
   "cell_type": "code",
   "execution_count": 6,
   "id": "a369faf4",
   "metadata": {},
   "outputs": [],
   "source": [
    "# Imports\n",
    "import os\n",
    "try:\n",
    "    os.chdir('code')\n",
    "except FileNotFoundError:\n",
    "    pass\n",
    "\n",
    "from world import Config\n",
    "from dataloader import Loader\n",
    "from scipy.sparse import csr_matrix\n",
    "import numpy as np"
   ]
  },
  {
   "cell_type": "code",
   "execution_count": 2,
   "id": "0d68b92f",
   "metadata": {},
   "outputs": [
    {
     "name": "stdout",
     "output_type": "stream",
     "text": [
      "init dataset\n",
      "\u001b[0;30;43mloading [../data/gowalla]\u001b[0m\n"
     ]
    }
   ],
   "source": [
    "dataset_name = 'gowalla'\n",
    "# Instantiate the config object\n",
    "config = Config()\n",
    "dataset = Loader(config, minimal_bool=True)"
   ]
  },
  {
   "cell_type": "code",
   "execution_count": 9,
   "id": "684ca901",
   "metadata": {},
   "outputs": [],
   "source": [
    "# Create the user item sparse matrices for the train and test set\n",
    "train_user_item_matrix = csr_matrix(\n",
    "    (np.ones(len(dataset.trainUser)), (dataset.trainUser, dataset.trainItem)),\n",
    "    shape=(dataset.n_user, dataset.m_item)\n",
    ")\n",
    "test_user_item_matrix = csr_matrix(\n",
    "    (np.ones(len(dataset.testUser)), (dataset.testUser, dataset.testItem)),\n",
    "    shape=(dataset.n_user, dataset.m_item)\n",
    ")\n",
    "# Get the number of items by users\n",
    "train_user = np.array(train_user_item_matrix.sum(axis=1)).squeeze()\n",
    "# Get the number of users by items\n",
    "train_item = np.array(train_user_item_matrix.sum(axis=0)).squeeze()\n",
    "\n",
    "# Get the number of items by users\n",
    "test_user = np.array(test_user_item_matrix.sum(axis=1)).squeeze()\n",
    "# Get the number of users by items\n",
    "test_item = np.array(test_user_item_matrix.sum(axis=0)).squeeze()"
   ]
  },
  {
   "cell_type": "code",
   "execution_count": 10,
   "id": "2ffb5180",
   "metadata": {},
   "outputs": [],
   "source": [
    "def get_array_statistics(array):\n",
    "    return array.min(), array.mean(), np.median(array), array.max(), array.std()"
   ]
  },
  {
   "cell_type": "code",
   "execution_count": 12,
   "id": "aceb2a63",
   "metadata": {},
   "outputs": [
    {
     "name": "stdout",
     "output_type": "stream",
     "text": [
      "In the training dataset:\n",
      "- There are 810128 edges.\n",
      "- The users have a minimum, mean, median, maximum, std of (8.0, 27.132694755174494, 16.0, 811.0, 36.85818812689325) edges.\n",
      "- The items have a minimum, mean, median, maximum, std of (1.0, 19.76838046899783, 12.0, 1415.0, 33.11268050158492) users.\n",
      "\n",
      "In the testing dataset:\n",
      "- There are 217242 edges.\n",
      "- The users have a minimum, mean, median, maximum, std of (1.0, 7.275838971130016, 4.0, 203.0, 9.217030630034714) edges.\n",
      "- The items have a minimum, mean, median, maximum, std of (0.0, 5.301041946267783, 3.0, 895.0, 13.345033564190903) users.\n",
      "\n"
     ]
    }
   ],
   "source": [
    "print('In the training dataset:')\n",
    "print(f'- There are {dataset.trainUser.shape[0]} edges.')\n",
    "print(f'- The users have a minimum, mean, median, maximum, std of {get_array_statistics(train_user)} edges.')\n",
    "print(f'- The items have a minimum, mean, median, maximum, std of {get_array_statistics(train_item)} users.\\n')\n",
    "\n",
    "print('In the testing dataset:')\n",
    "print(f'- There are {dataset.testUser.shape[0]} edges.')\n",
    "print(f'- The users have a minimum, mean, median, maximum, std of {get_array_statistics(test_user)} edges.')\n",
    "print(f'- The items have a minimum, mean, median, maximum, std of {get_array_statistics(test_item)} users.\\n')\n"
   ]
  },
  {
   "cell_type": "code",
   "execution_count": null,
   "id": "de74ade4",
   "metadata": {},
   "outputs": [],
   "source": []
  }
 ],
 "metadata": {
  "kernelspec": {
   "display_name": "Python 3 (ipykernel)",
   "language": "python",
   "name": "python3"
  },
  "language_info": {
   "codemirror_mode": {
    "name": "ipython",
    "version": 3
   },
   "file_extension": ".py",
   "mimetype": "text/x-python",
   "name": "python",
   "nbconvert_exporter": "python",
   "pygments_lexer": "ipython3",
   "version": "3.9.16"
  }
 },
 "nbformat": 4,
 "nbformat_minor": 5
}
